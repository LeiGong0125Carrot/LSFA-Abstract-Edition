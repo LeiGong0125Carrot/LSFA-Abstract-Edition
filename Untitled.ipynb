{
 "cells": [
  {
   "cell_type": "code",
   "execution_count": 145,
   "id": "9e14147c-4fd4-4088-9f4f-045e8d359763",
   "metadata": {
    "tags": []
   },
   "outputs": [],
   "source": [
    "import pandas as pd\n",
    "import re"
   ]
  },
  {
   "cell_type": "code",
   "execution_count": 2,
   "id": "8950b16e-978e-413a-86d0-64ed9ef70a68",
   "metadata": {
    "tags": []
   },
   "outputs": [
    {
     "name": "stdout",
     "output_type": "stream",
     "text": [
      "/sfs/weka/scratch/nkw3mr/ICD-SDoH-Classification/LSFA\n"
     ]
    }
   ],
   "source": [
    "!pwd"
   ]
  },
  {
   "cell_type": "code",
   "execution_count": 6,
   "id": "059168a6-5ed3-4312-bd9f-ff921afbbc3e",
   "metadata": {
    "tags": []
   },
   "outputs": [],
   "source": [
    "data_dir = '/sfs/weka/scratch/nkw3mr/ICD-SDoH-Classification/LSFA/'"
   ]
  },
  {
   "cell_type": "code",
   "execution_count": 21,
   "id": "e4f64c23-4060-474a-a1e3-def5619ba4cd",
   "metadata": {
    "tags": []
   },
   "outputs": [],
   "source": [
    "test = pd.read_csv(''.join([data_dir, 'test', '_sdoh.csv']))\n",
    "dev = pd.read_csv(''.join([data_dir, 'dev', '_sdoh.csv']))\n",
    "train = pd.read_csv(''.join([data_dir, 'train', '_sdoh.csv']))"
   ]
  },
  {
   "cell_type": "code",
   "execution_count": 22,
   "id": "8e935531-4ed9-4f6b-bdfe-95ad3af84bf5",
   "metadata": {
    "tags": []
   },
   "outputs": [
    {
     "data": {
      "text/plain": [
       "16822"
      ]
     },
     "execution_count": 22,
     "metadata": {},
     "output_type": "execute_result"
    }
   ],
   "source": [
    "total_len = len(test) + len(dev) + len(train)\n",
    "total_len"
   ]
  },
  {
   "cell_type": "code",
   "execution_count": 23,
   "id": "56801d51-a905-42e3-b424-67eeb4c35098",
   "metadata": {
    "tags": []
   },
   "outputs": [
    {
     "data": {
      "text/html": [
       "<div>\n",
       "<style scoped>\n",
       "    .dataframe tbody tr th:only-of-type {\n",
       "        vertical-align: middle;\n",
       "    }\n",
       "\n",
       "    .dataframe tbody tr th {\n",
       "        vertical-align: top;\n",
       "    }\n",
       "\n",
       "    .dataframe thead th {\n",
       "        text-align: right;\n",
       "    }\n",
       "</style>\n",
       "<table border=\"1\" class=\"dataframe\">\n",
       "  <thead>\n",
       "    <tr style=\"text-align: right;\">\n",
       "      <th></th>\n",
       "      <th>Unnamed: 0.1</th>\n",
       "      <th>Unnamed: 0</th>\n",
       "      <th>subject_id</th>\n",
       "      <th>hadm_id</th>\n",
       "      <th>text</th>\n",
       "      <th>labels</th>\n",
       "      <th>length</th>\n",
       "    </tr>\n",
       "  </thead>\n",
       "  <tbody>\n",
       "    <tr>\n",
       "      <th>0</th>\n",
       "      <td>0</td>\n",
       "      <td>0</td>\n",
       "      <td>11235666</td>\n",
       "      <td>28318128</td>\n",
       "      <td>name ___ unit no ___ admission date ___ discha...</td>\n",
       "      <td>E46;Z7289;E538</td>\n",
       "      <td>101</td>\n",
       "    </tr>\n",
       "    <tr>\n",
       "      <th>1</th>\n",
       "      <td>1</td>\n",
       "      <td>1</td>\n",
       "      <td>11621673</td>\n",
       "      <td>20324414</td>\n",
       "      <td>name ___ unit no ___ admission date ___ discha...</td>\n",
       "      <td>X58XXXA</td>\n",
       "      <td>158</td>\n",
       "    </tr>\n",
       "    <tr>\n",
       "      <th>2</th>\n",
       "      <td>2</td>\n",
       "      <td>2</td>\n",
       "      <td>10625422</td>\n",
       "      <td>20469434</td>\n",
       "      <td>name ___ unit no ___ admission date ___ discha...</td>\n",
       "      <td>X58XXXA</td>\n",
       "      <td>159</td>\n",
       "    </tr>\n",
       "    <tr>\n",
       "      <th>3</th>\n",
       "      <td>3</td>\n",
       "      <td>3</td>\n",
       "      <td>16754064</td>\n",
       "      <td>25663849</td>\n",
       "      <td>name ___ unit no ___ admission date ___ discha...</td>\n",
       "      <td>X58XXXA</td>\n",
       "      <td>170</td>\n",
       "    </tr>\n",
       "    <tr>\n",
       "      <th>4</th>\n",
       "      <td>4</td>\n",
       "      <td>4</td>\n",
       "      <td>10610574</td>\n",
       "      <td>20808583</td>\n",
       "      <td>name ___ unit no ___ admission date ___ discha...</td>\n",
       "      <td>E43</td>\n",
       "      <td>184</td>\n",
       "    </tr>\n",
       "  </tbody>\n",
       "</table>\n",
       "</div>"
      ],
      "text/plain": [
       "   Unnamed: 0.1  Unnamed: 0  subject_id   hadm_id  \\\n",
       "0             0           0    11235666  28318128   \n",
       "1             1           1    11621673  20324414   \n",
       "2             2           2    10625422  20469434   \n",
       "3             3           3    16754064  25663849   \n",
       "4             4           4    10610574  20808583   \n",
       "\n",
       "                                                text          labels  length  \n",
       "0  name ___ unit no ___ admission date ___ discha...  E46;Z7289;E538     101  \n",
       "1  name ___ unit no ___ admission date ___ discha...         X58XXXA     158  \n",
       "2  name ___ unit no ___ admission date ___ discha...         X58XXXA     159  \n",
       "3  name ___ unit no ___ admission date ___ discha...         X58XXXA     170  \n",
       "4  name ___ unit no ___ admission date ___ discha...             E43     184  "
      ]
     },
     "execution_count": 23,
     "metadata": {},
     "output_type": "execute_result"
    }
   ],
   "source": [
    "train.head()"
   ]
  },
  {
   "cell_type": "code",
   "execution_count": 24,
   "id": "252c994d-4c15-4d9b-9e75-622c7ac1d177",
   "metadata": {
    "tags": []
   },
   "outputs": [],
   "source": [
    "merged_df = pd.concat([train, dev, test], axis=0)"
   ]
  },
  {
   "cell_type": "code",
   "execution_count": 25,
   "id": "23aef927-25cb-487b-8810-e31ac7ba32f7",
   "metadata": {
    "tags": []
   },
   "outputs": [
    {
     "data": {
      "text/plain": [
       "16822"
      ]
     },
     "execution_count": 25,
     "metadata": {},
     "output_type": "execute_result"
    }
   ],
   "source": [
    "len(merged_df)"
   ]
  },
  {
   "cell_type": "code",
   "execution_count": 120,
   "id": "472ca3ec-c85f-4da1-bf8c-f6e66a731459",
   "metadata": {
    "tags": []
   },
   "outputs": [],
   "source": [
    "from sklearn.model_selection import train_test_split\n",
    "\n",
    "unique_subjects = merged_df['subject_id'].unique()\n",
    "\n",
    "\n",
    "# 分割 subject_id 为训练集和一个暂时的测试集（这里包括了开发集和测试集）\n",
    "train_subjects, test_subjects = train_test_split(unique_subjects, test_size=0.20)\n",
    "\n",
    "# 使用 subject_id 的集合分割原始 DataFrame 为训练集、开发集和测试集\n",
    "train_df = merged_df[merged_df['subject_id'].isin(train_subjects)]\n",
    "test_df = merged_df[merged_df['subject_id'].isin(test_subjects)]"
   ]
  },
  {
   "cell_type": "code",
   "execution_count": 121,
   "id": "c6d12d09-8cee-4cda-af1a-940057aee6f1",
   "metadata": {
    "tags": []
   },
   "outputs": [
    {
     "name": "stdout",
     "output_type": "stream",
     "text": [
      "Unique labels:\n",
      "Number of unique labels: 121\n"
     ]
    }
   ],
   "source": [
    "split_labels = train_df['labels'].str.split(';', expand=True)\n",
    "\n",
    "# 将所有标签合并到一个列表中\n",
    "all_labels = split_labels.values.flatten()\n",
    "\n",
    "# 使用set()函数获取唯一标签\n",
    "unique_labels = set(all_labels)\n",
    "\n",
    "# 移除NaN值\n",
    "unique_labels.discard(None)\n",
    "\n",
    "print(\"Unique labels:\")\n",
    "# print(unique_labels)\n",
    "print(f\"Number of unique labels: {len(unique_labels)}\")"
   ]
  },
  {
   "cell_type": "code",
   "execution_count": 122,
   "id": "f58b4bec-6d13-48ed-8b5a-07398706dc57",
   "metadata": {
    "tags": []
   },
   "outputs": [],
   "source": [
    "length = 1\n",
    "while (length != 129):\n",
    "    unique_subjects = merged_df['subject_id'].unique()\n",
    "\n",
    "\n",
    "    # 分割 subject_id 为训练集和一个暂时的测试集（这里包括了开发集和测试集）\n",
    "    train_subjects, test_subjects = train_test_split(unique_subjects, test_size=0.20)\n",
    "\n",
    "    # 使用 subject_id 的集合分割原始 DataFrame 为训练集、开发集和测试集\n",
    "    train_df = merged_df[merged_df['subject_id'].isin(train_subjects)]\n",
    "    test_df = merged_df[merged_df['subject_id'].isin(test_subjects)]\n",
    "    \n",
    "    split_labels = train_df['labels'].str.split(';', expand=True)\n",
    "\n",
    "    # 将所有标签合并到一个列表中\n",
    "    all_labels = split_labels.values.flatten()\n",
    "\n",
    "    # 使用set()函数获取唯一标签\n",
    "    unique_labels = set(all_labels)\n",
    "\n",
    "    # 移除NaN值\n",
    "    unique_labels.discard(None)\n",
    "\n",
    "    # print(\"Unique labels:\")\n",
    "    # print(unique_labels)\n",
    "    # print(f\"Number of unique labels: {len(unique_labels)}\")\n",
    "    length = len(unique_labels)"
   ]
  },
  {
   "cell_type": "code",
   "execution_count": 130,
   "id": "448c463a-86e8-461c-87c8-1d7dab7df338",
   "metadata": {
    "tags": []
   },
   "outputs": [
    {
     "name": "stdout",
     "output_type": "stream",
     "text": [
      "Number of unique labels: 78\n"
     ]
    }
   ],
   "source": [
    "split_labels = test_df['labels'].str.split(';', expand=True)\n",
    "\n",
    "# 将所有标签合并到一个列表中\n",
    "all_labels = split_labels.values.flatten()\n",
    "\n",
    "# 使用set()函数获取唯一标签\n",
    "unique_labels = set(all_labels)\n",
    "\n",
    "# 移除NaN值\n",
    "unique_labels.discard(None)\n",
    "\n",
    "# print(\"Unique labels:\")\n",
    "# print(unique_labels)\n",
    "print(f\"Number of unique labels: {len(unique_labels)}\")\n",
    "length = len(unique_labels)"
   ]
  },
  {
   "cell_type": "code",
   "execution_count": 128,
   "id": "7c37ff82-ee33-45f2-b60d-1a717dc0698e",
   "metadata": {
    "tags": []
   },
   "outputs": [],
   "source": [
    "LSFA_train_df = train_df[['text', 'labels']]\n",
    "LSFA_test_df = test_df[['text', 'labels']]"
   ]
  },
  {
   "cell_type": "code",
   "execution_count": 131,
   "id": "f1769768-e26b-4618-a7f6-1168e031b824",
   "metadata": {
    "tags": []
   },
   "outputs": [
    {
     "name": "stderr",
     "output_type": "stream",
     "text": [
      "/tmp/ipykernel_758602/2258972419.py:1: SettingWithCopyWarning: \n",
      "A value is trying to be set on a copy of a slice from a DataFrame.\n",
      "Try using .loc[row_indexer,col_indexer] = value instead\n",
      "\n",
      "See the caveats in the documentation: https://pandas.pydata.org/pandas-docs/stable/user_guide/indexing.html#returning-a-view-versus-a-copy\n",
      "  LSFA_train_df['labels_Space_Sep'] = LSFA_train_df['labels'].str.replace(';', ' ')\n",
      "/tmp/ipykernel_758602/2258972419.py:2: SettingWithCopyWarning: \n",
      "A value is trying to be set on a copy of a slice from a DataFrame.\n",
      "Try using .loc[row_indexer,col_indexer] = value instead\n",
      "\n",
      "See the caveats in the documentation: https://pandas.pydata.org/pandas-docs/stable/user_guide/indexing.html#returning-a-view-versus-a-copy\n",
      "  LSFA_test_df['labels_Space_Sep'] = LSFA_test_df['labels'].str.replace(';', ' ')\n"
     ]
    }
   ],
   "source": [
    "LSFA_train_df['labels_Space_Sep'] = LSFA_train_df['labels'].str.replace(';', ' ')\n",
    "LSFA_test_df['labels_Space_Sep'] = LSFA_test_df['labels'].str.replace(';', ' ')"
   ]
  },
  {
   "cell_type": "code",
   "execution_count": 132,
   "id": "1296940e-ed27-4abb-a976-660a907ac817",
   "metadata": {
    "tags": []
   },
   "outputs": [
    {
     "data": {
      "text/html": [
       "<div>\n",
       "<style scoped>\n",
       "    .dataframe tbody tr th:only-of-type {\n",
       "        vertical-align: middle;\n",
       "    }\n",
       "\n",
       "    .dataframe tbody tr th {\n",
       "        vertical-align: top;\n",
       "    }\n",
       "\n",
       "    .dataframe thead th {\n",
       "        text-align: right;\n",
       "    }\n",
       "</style>\n",
       "<table border=\"1\" class=\"dataframe\">\n",
       "  <thead>\n",
       "    <tr style=\"text-align: right;\">\n",
       "      <th></th>\n",
       "      <th>text</th>\n",
       "      <th>labels</th>\n",
       "      <th>labels_Space_Sep</th>\n",
       "    </tr>\n",
       "  </thead>\n",
       "  <tbody>\n",
       "    <tr>\n",
       "      <th>0</th>\n",
       "      <td>name ___ unit no ___ admission date ___ discha...</td>\n",
       "      <td>E46;Z7289;E538</td>\n",
       "      <td>E46 Z7289 E538</td>\n",
       "    </tr>\n",
       "    <tr>\n",
       "      <th>1</th>\n",
       "      <td>name ___ unit no ___ admission date ___ discha...</td>\n",
       "      <td>X58XXXA</td>\n",
       "      <td>X58XXXA</td>\n",
       "    </tr>\n",
       "  </tbody>\n",
       "</table>\n",
       "</div>"
      ],
      "text/plain": [
       "                                                text          labels  \\\n",
       "0  name ___ unit no ___ admission date ___ discha...  E46;Z7289;E538   \n",
       "1  name ___ unit no ___ admission date ___ discha...         X58XXXA   \n",
       "\n",
       "  labels_Space_Sep  \n",
       "0   E46 Z7289 E538  \n",
       "1          X58XXXA  "
      ]
     },
     "execution_count": 132,
     "metadata": {},
     "output_type": "execute_result"
    }
   ],
   "source": [
    "LSFA_train_df.head(2)"
   ]
  },
  {
   "cell_type": "code",
   "execution_count": 159,
   "id": "9004786d-2f59-4201-90ac-23e7f9d500b8",
   "metadata": {
    "tags": []
   },
   "outputs": [
    {
     "data": {
      "text/plain": [
       "'/sfs/weka/scratch/nkw3mr/ICD-SDoH-Classification/LSFA/data/SdohICD10/train_labels.txt'"
      ]
     },
     "execution_count": 159,
     "metadata": {},
     "output_type": "execute_result"
    }
   ],
   "source": [
    "train_label_path = ''.join([data_dir, 'data/SdohICD10/', 'train_labels.txt'])\n",
    "train_label_path"
   ]
  },
  {
   "cell_type": "code",
   "execution_count": 138,
   "id": "d065ec26-7197-4e5a-8a0d-7da6e96a4e32",
   "metadata": {
    "tags": []
   },
   "outputs": [
    {
     "data": {
      "text/plain": [
       "'/sfs/weka/scratch/nkw3mr/ICD-SDoH-Classification/LSFA/data/SdohICD10/test_labels.txt'"
      ]
     },
     "execution_count": 138,
     "metadata": {},
     "output_type": "execute_result"
    }
   ],
   "source": [
    "test_label_path = ''.join([data_dir, 'data/SdohICD10/', 'test_labels.txt'])\n",
    "test_label_path"
   ]
  },
  {
   "cell_type": "code",
   "execution_count": 140,
   "id": "f273535c-f277-48ea-a9e7-7412b23e6782",
   "metadata": {
    "tags": []
   },
   "outputs": [],
   "source": [
    "with open(train_label_path, 'w') as file:\n",
    "    for label in LSFA_train_df['labels_Space_Sep']:\n",
    "        file.write(label + '\\n')"
   ]
  },
  {
   "cell_type": "code",
   "execution_count": 141,
   "id": "10c1bd6d-e171-4247-b8cd-adae5b9c3f2c",
   "metadata": {
    "tags": []
   },
   "outputs": [],
   "source": [
    "with open(test_label_path, 'w') as file:\n",
    "    for label in LSFA_test_df['labels_Space_Sep']:\n",
    "        file.write(label + '\\n')"
   ]
  },
  {
   "cell_type": "code",
   "execution_count": 160,
   "id": "c95ed535-f80d-423f-b2e9-a066a0142181",
   "metadata": {
    "tags": []
   },
   "outputs": [],
   "source": [
    "def proc_text(text):\n",
    "    pattern = r\"name.*?service\"\n",
    "    text = re.sub(pattern, \"\", text)\n",
    "    text = re.sub(r'\\[\\*\\*[^\\]]*\\*\\*\\]', '', text)\n",
    "    text = text.lower().replace(\"\\n\",\" \").replace(\"\\r\",\" \")\n",
    "    text = re.sub('dr\\.','doctor',text)\n",
    "    text = re.sub('m\\.d\\.','doctor',text)\n",
    "    text = re.sub('admission date:','',text)\n",
    "    text = re.sub('discharge date:','',text)\n",
    "    text = re.sub('--|__|==','',text)\n",
    "    return re.sub(r'  +', ' ', text)"
   ]
  },
  {
   "cell_type": "code",
   "execution_count": 161,
   "id": "993e2a19-2d4c-4db8-a824-1606d2cc088f",
   "metadata": {
    "tags": []
   },
   "outputs": [],
   "source": [
    "train_texts = train_df['text'].apply(proc_text)"
   ]
  },
  {
   "cell_type": "code",
   "execution_count": 162,
   "id": "cd2de686-6697-4122-8500-bc700ed0768b",
   "metadata": {
    "tags": []
   },
   "outputs": [
    {
     "data": {
      "text/plain": [
       "0       medicine allergies penicillins codeine nitrog...\n",
       "1       orthopaedics allergies lamictal attending _ c...\n",
       "2       orthopaedics allergies ibuprofen nsaids non s...\n",
       "6       urology allergies no known allergies adverse ...\n",
       "7       neurology allergies no known allergies advers...\n",
       "                             ...                        \n",
       "545     medicine allergies penicillins lactose attend...\n",
       "546     medicine allergies gadolinium containing cont...\n",
       "547     cardiothoracic allergies oysters attending _ ...\n",
       "548     neurology allergies trospium attending _ chie...\n",
       "549     surgery allergies penicillins attending _ chi...\n",
       "Name: text, Length: 13522, dtype: object"
      ]
     },
     "execution_count": 162,
     "metadata": {},
     "output_type": "execute_result"
    }
   ],
   "source": [
    "train_texts"
   ]
  },
  {
   "cell_type": "code",
   "execution_count": 163,
   "id": "86d32c14-2b51-4bbc-bd14-4cc943086140",
   "metadata": {
    "tags": []
   },
   "outputs": [],
   "source": [
    "test_texts = test_df['text'].apply(proc_text)"
   ]
  },
  {
   "cell_type": "code",
   "execution_count": 164,
   "id": "b2338136-2a2f-4713-a488-75f8b9fc08d1",
   "metadata": {
    "tags": []
   },
   "outputs": [
    {
     "data": {
      "text/plain": [
       "3       orthopaedics allergies oxycodone attending _ ...\n",
       "4       medicine allergies univasc shellfish mold yea...\n",
       "5       medicine allergies percocet attending _ chief...\n",
       "10      plastic allergies morphine attending _ chief ...\n",
       "19      medicine allergies no known allergies adverse...\n",
       "                             ...                        \n",
       "517     medicine allergies _ attending _ chief compla...\n",
       "518     medicine allergies flagyl asacol cortifoam sh...\n",
       "533     medicine allergies no known allergies adverse...\n",
       "536     medicine allergies no known allergies adverse...\n",
       "537     medicine allergies morphine attending _ chief...\n",
       "Name: text, Length: 3300, dtype: object"
      ]
     },
     "execution_count": 164,
     "metadata": {},
     "output_type": "execute_result"
    }
   ],
   "source": [
    "test_texts"
   ]
  },
  {
   "cell_type": "code",
   "execution_count": 165,
   "id": "2fe6cff3-76c9-4128-b995-97af3c8802be",
   "metadata": {
    "tags": []
   },
   "outputs": [],
   "source": [
    "train_text_path = ''.join([data_dir, 'data/SdohICD10/', 'train_texts.txt'])\n",
    "with open(train_text_path, 'w') as file:\n",
    "    for text in train_texts:\n",
    "        file.write(text + '\\n')"
   ]
  },
  {
   "cell_type": "code",
   "execution_count": 166,
   "id": "3b3ad86d-2584-4e2e-9581-0a817247cd0c",
   "metadata": {
    "tags": []
   },
   "outputs": [],
   "source": [
    "test_text_path = ''.join([data_dir, 'data/SdohICD10/', 'test_texts.txt'])\n",
    "with open(test_text_path, 'w') as file:\n",
    "    for text in test_texts:\n",
    "        file.write(text + '\\n')"
   ]
  },
  {
   "cell_type": "code",
   "execution_count": null,
   "id": "a888bb0f-a015-4688-8be5-8094f47756f5",
   "metadata": {},
   "outputs": [],
   "source": [
    "train_df.to_csv(''.join([data_dir, ]))"
   ]
  }
 ],
 "metadata": {
  "kernelspec": {
   "display_name": "Python 3 (ipykernel)",
   "language": "python",
   "name": "python3"
  },
  "language_info": {
   "codemirror_mode": {
    "name": "ipython",
    "version": 3
   },
   "file_extension": ".py",
   "mimetype": "text/x-python",
   "name": "python",
   "nbconvert_exporter": "python",
   "pygments_lexer": "ipython3",
   "version": "3.11.4"
  }
 },
 "nbformat": 4,
 "nbformat_minor": 5
}
